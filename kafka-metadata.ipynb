{
 "cells": [
  {
   "cell_type": "code",
   "execution_count": 26,
   "metadata": {},
   "outputs": [
    {
     "name": "stdout",
     "output_type": "stream",
     "text": [
      "Created topics: ['topic1', 'topic2', 'topic3']\n"
     ]
    }
   ],
   "source": [
    "from kafka import KafkaAdminClient\n",
    "from kafka.admin import NewTopic\n",
    "\n",
    "def create_topics(topic_names):\n",
    "    admin_client = KafkaAdminClient(bootstrap_servers=\"localhost:9092\")\n",
    "    \n",
    "    # Create a list of NewTopic objects\n",
    "    topics = [NewTopic(name=topic, num_partitions=1, replication_factor=1) for topic in topic_names]\n",
    "    \n",
    "    # Create the topics\n",
    "    admin_client.create_topics(new_topics=topics, validate_only=False)\n",
    "    print(f\"Created topics: {topic_names}\")\n",
    "\n",
    "# Example usage\n",
    "create_topics([\"topic1\", \"topic2\", \"topic3\"])"
   ]
  },
  {
   "cell_type": "code",
   "execution_count": 44,
   "metadata": {},
   "outputs": [
    {
     "name": "stdout",
     "output_type": "stream",
     "text": [
      "Data type of topic_metadata: <class 'list'>\n"
     ]
    },
    {
     "data": {
      "text/plain": [
       "[{'error_code': 0,\n",
       "  'topic': 'topic3',\n",
       "  'is_internal': False,\n",
       "  'partitions': [{'error_code': 0,\n",
       "    'partition': 0,\n",
       "    'leader': 0,\n",
       "    'replicas': [0],\n",
       "    'isr': [0],\n",
       "    'offline_replicas': []}]},\n",
       " {'error_code': 0,\n",
       "  'topic': 'topic1',\n",
       "  'is_internal': False,\n",
       "  'partitions': [{'error_code': 0,\n",
       "    'partition': 0,\n",
       "    'leader': 0,\n",
       "    'replicas': [0],\n",
       "    'isr': [0],\n",
       "    'offline_replicas': []}]},\n",
       " {'error_code': 0,\n",
       "  'topic': 'topic2',\n",
       "  'is_internal': False,\n",
       "  'partitions': [{'error_code': 0,\n",
       "    'partition': 0,\n",
       "    'leader': 0,\n",
       "    'replicas': [0],\n",
       "    'isr': [0],\n",
       "    'offline_replicas': []}]}]"
      ]
     },
     "execution_count": 44,
     "metadata": {},
     "output_type": "execute_result"
    }
   ],
   "source": [
    "from kafka import KafkaAdminClient\n",
    "\n",
    "def get_topic_metadata():\n",
    "    admin_client = KafkaAdminClient(bootstrap_servers=\"localhost:9092\")\n",
    "    \n",
    "    # List all topics\n",
    "    topics = admin_client.list_topics()\n",
    "    \n",
    "    # Fetch metadata for each topic\n",
    "    topic_metadata = admin_client.describe_topics(topics)\n",
    "    # Print the data type of topic_metadata\n",
    "    print(f\"Data type of topic_metadata: {type(topic_metadata)}\")\n",
    "    return topic_metadata\n",
    "\n",
    "# Example usage\n",
    "get_topic_metadata()"
   ]
  },
  {
   "cell_type": "code",
   "execution_count": 45,
   "metadata": {},
   "outputs": [
    {
     "name": "stdout",
     "output_type": "stream",
     "text": [
      "Data type of topic_metadata: <class 'list'>\n",
      "Pipeline kafka_metadata load step completed in 1.38 seconds\n",
      "1 load package(s) were loaded to destination duckdb and into dataset kafka_metadata_dataset_20240821051827\n",
      "The duckdb destination used duckdb:////workspaces/dataplex-integration/kafka_metadata.duckdb location to store data\n",
      "Load package 1724260708.2743354 is LOADED and contains no failed jobs\n"
     ]
    }
   ],
   "source": [
    "import dlt\n",
    "\n",
    "\n",
    "pipeline = dlt.pipeline(\n",
    "    pipeline_name=\"kafka_metadata\",\n",
    "    destination=\"duckdb\",\n",
    "    dataset_name=\"kafka_metadata_dataset\",\n",
    "    dev_mode = True\n",
    ")\n",
    "# The response contains a list of issues\n",
    "load_info = pipeline.run(get_topic_metadata(), table_name=\"kafka_metadata\")\n",
    "\n",
    "print(load_info)"
   ]
  },
  {
   "cell_type": "code",
   "execution_count": null,
   "metadata": {},
   "outputs": [],
   "source": []
  }
 ],
 "metadata": {
  "kernelspec": {
   "display_name": "Python 3",
   "language": "python",
   "name": "python3"
  },
  "language_info": {
   "codemirror_mode": {
    "name": "ipython",
    "version": 3
   },
   "file_extension": ".py",
   "mimetype": "text/x-python",
   "name": "python",
   "nbconvert_exporter": "python",
   "pygments_lexer": "ipython3",
   "version": "3.12.5"
  }
 },
 "nbformat": 4,
 "nbformat_minor": 2
}
